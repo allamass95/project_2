{
 "cells": [
  {
   "cell_type": "code",
   "execution_count": 43,
   "metadata": {},
   "outputs": [],
   "source": [
    "import pandas as pd\n",
    "from sqlalchemy import create_engine"
   ]
  },
  {
   "cell_type": "code",
   "execution_count": 52,
   "metadata": {},
   "outputs": [],
   "source": [
    "connection_string = \"postgres:Alevaporo58@localhost:5432/project_2\"\n",
    "engine = create_engine(f'postgresql://{connection_string}')"
   ]
  },
  {
   "cell_type": "code",
   "execution_count": null,
   "metadata": {},
   "outputs": [],
   "source": []
  },
  {
   "cell_type": "code",
   "execution_count": 79,
   "metadata": {},
   "outputs": [],
   "source": [
    "file=pd.read_csv('/Users/alejandrollamas/Desktop/HW-Bootcamp/HW Assignments/Project2/data/2011_data.csv',header=-1)\n",
    "data=file\n",
    "\n",
    "file_2013=pd.read_csv('/Users/alejandrollamas/Desktop/HW-Bootcamp/HW Assignments/Project2/data/2013_data.csv',header=-1)\n",
    "data_2013=file_2013\n",
    "\n",
    "file_2014=pd.read_csv('/Users/alejandrollamas/Desktop/HW-Bootcamp/HW Assignments/Project2/data/2014_data.csv',header=-1)\n",
    "data_2014=file_2014\n",
    "\n",
    "file_2015=pd.read_csv('/Users/alejandrollamas/Desktop/HW-Bootcamp/HW Assignments/Project2/data/2015_data.csv',header=-1)\n",
    "data_2015=file_2015\n",
    "\n",
    "file_2016=pd.read_csv('/Users/alejandrollamas/Desktop/HW-Bootcamp/HW Assignments/Project2/data/2016_data.csv',header=-1)\n",
    "data_2016=file_2016\n",
    "\n",
    "file_2017=pd.read_csv('/Users/alejandrollamas/Desktop/HW-Bootcamp/HW Assignments/Project2/data/2017_data.csv',header=-1)\n",
    "data_2017=file_2017\n",
    "\n",
    "file_2012=pd.read_csv('/Users/alejandrollamas/Desktop/HW-Bootcamp/HW Assignments/Project2/data/2012_data.csv',header=-1)\n",
    "data_2012=file_2012\n",
    "\n",
    "file_2010=pd.read_csv('/Users/alejandrollamas/Desktop/HW-Bootcamp/HW Assignments/Project2/data/2010_data.csv',header=-1)\n",
    "data_2010=file_2010\n",
    "\n",
    "file_2009=pd.read_csv('/Users/alejandrollamas/Desktop/HW-Bootcamp/HW Assignments/Project2/data/2009_data.csv',header=-1)\n",
    "data_2009=file_2009\n",
    "\n"
   ]
  },
  {
   "cell_type": "code",
   "execution_count": 62,
   "metadata": {},
   "outputs": [],
   "source": [
    "def clean_data(data,table_name):\n",
    "    data=data.rename(columns={0:'state',1:'total_seats',2:'total_senate',\n",
    "                              3:'senate_dem',4:'senate_rep',\n",
    "                              5:'senate_other',6:'total_house',\n",
    "                              7:'house_dem',8:'house_rep',9:'house_other',\n",
    "                              10:'legis_control',11:'gov_party',12:'state_control'})\n",
    "    data[data.columns[1:10]]=data[data.columns[1:10]].convert_objects(convert_numeric=True).fillna(0).astype(int)\n",
    "    \n",
    "    data.to_sql(name=table_name,con=engine, if_exists='append', index=False)\n",
    "    \n"
   ]
  },
  {
   "cell_type": "code",
   "execution_count": 54,
   "metadata": {},
   "outputs": [
    {
     "name": "stderr",
     "output_type": "stream",
     "text": [
      "/Users/alejandrollamas/anaconda3/lib/python3.7/site-packages/ipykernel_launcher.py:7: FutureWarning: convert_objects is deprecated.  To re-infer data dtypes for object columns, use DataFrame.infer_objects()\n",
      "For all other conversions use the data-type specific converters pd.to_datetime, pd.to_timedelta and pd.to_numeric.\n",
      "  import sys\n"
     ]
    }
   ],
   "source": [
    "clean_data(data_2013,'data_2013')"
   ]
  },
  {
   "cell_type": "code",
   "execution_count": 41,
   "metadata": {},
   "outputs": [],
   "source": [
    "data.to_csv('data_2013.csv',index=False)"
   ]
  },
  {
   "cell_type": "code",
   "execution_count": 77,
   "metadata": {},
   "outputs": [
    {
     "name": "stderr",
     "output_type": "stream",
     "text": [
      "/Users/alejandrollamas/anaconda3/lib/python3.7/site-packages/ipykernel_launcher.py:7: FutureWarning: convert_objects is deprecated.  To re-infer data dtypes for object columns, use DataFrame.infer_objects()\n",
      "For all other conversions use the data-type specific converters pd.to_datetime, pd.to_timedelta and pd.to_numeric.\n",
      "  import sys\n"
     ]
    }
   ],
   "source": [
    "clean_data(data_2014,'data_2014')"
   ]
  },
  {
   "cell_type": "code",
   "execution_count": 68,
   "metadata": {},
   "outputs": [
    {
     "name": "stderr",
     "output_type": "stream",
     "text": [
      "/Users/alejandrollamas/anaconda3/lib/python3.7/site-packages/ipykernel_launcher.py:7: FutureWarning: convert_objects is deprecated.  To re-infer data dtypes for object columns, use DataFrame.infer_objects()\n",
      "For all other conversions use the data-type specific converters pd.to_datetime, pd.to_timedelta and pd.to_numeric.\n",
      "  import sys\n"
     ]
    }
   ],
   "source": [
    "clean_data(data_2015,'data_2015')"
   ]
  },
  {
   "cell_type": "code",
   "execution_count": 70,
   "metadata": {},
   "outputs": [
    {
     "name": "stderr",
     "output_type": "stream",
     "text": [
      "/Users/alejandrollamas/anaconda3/lib/python3.7/site-packages/ipykernel_launcher.py:7: FutureWarning: convert_objects is deprecated.  To re-infer data dtypes for object columns, use DataFrame.infer_objects()\n",
      "For all other conversions use the data-type specific converters pd.to_datetime, pd.to_timedelta and pd.to_numeric.\n",
      "  import sys\n"
     ]
    }
   ],
   "source": [
    "clean_data(data_2016,'data_2016')"
   ]
  },
  {
   "cell_type": "code",
   "execution_count": 72,
   "metadata": {},
   "outputs": [
    {
     "name": "stderr",
     "output_type": "stream",
     "text": [
      "/Users/alejandrollamas/anaconda3/lib/python3.7/site-packages/ipykernel_launcher.py:7: FutureWarning: convert_objects is deprecated.  To re-infer data dtypes for object columns, use DataFrame.infer_objects()\n",
      "For all other conversions use the data-type specific converters pd.to_datetime, pd.to_timedelta and pd.to_numeric.\n",
      "  import sys\n"
     ]
    }
   ],
   "source": [
    "clean_data(data_2017,'data_2017')"
   ]
  },
  {
   "cell_type": "code",
   "execution_count": 74,
   "metadata": {},
   "outputs": [
    {
     "name": "stderr",
     "output_type": "stream",
     "text": [
      "/Users/alejandrollamas/anaconda3/lib/python3.7/site-packages/ipykernel_launcher.py:7: FutureWarning: convert_objects is deprecated.  To re-infer data dtypes for object columns, use DataFrame.infer_objects()\n",
      "For all other conversions use the data-type specific converters pd.to_datetime, pd.to_timedelta and pd.to_numeric.\n",
      "  import sys\n"
     ]
    }
   ],
   "source": [
    "clean_data(data_2012,'data_2012')"
   ]
  },
  {
   "cell_type": "code",
   "execution_count": 76,
   "metadata": {},
   "outputs": [
    {
     "name": "stderr",
     "output_type": "stream",
     "text": [
      "/Users/alejandrollamas/anaconda3/lib/python3.7/site-packages/ipykernel_launcher.py:7: FutureWarning: convert_objects is deprecated.  To re-infer data dtypes for object columns, use DataFrame.infer_objects()\n",
      "For all other conversions use the data-type specific converters pd.to_datetime, pd.to_timedelta and pd.to_numeric.\n",
      "  import sys\n"
     ]
    }
   ],
   "source": [
    "clean_data(data_2010,'data_2010')"
   ]
  },
  {
   "cell_type": "code",
   "execution_count": 80,
   "metadata": {},
   "outputs": [
    {
     "name": "stderr",
     "output_type": "stream",
     "text": [
      "/Users/alejandrollamas/anaconda3/lib/python3.7/site-packages/ipykernel_launcher.py:7: FutureWarning: convert_objects is deprecated.  To re-infer data dtypes for object columns, use DataFrame.infer_objects()\n",
      "For all other conversions use the data-type specific converters pd.to_datetime, pd.to_timedelta and pd.to_numeric.\n",
      "  import sys\n"
     ]
    }
   ],
   "source": [
    "clean_data(data_2009,'data_2009')"
   ]
  },
  {
   "cell_type": "code",
   "execution_count": null,
   "metadata": {},
   "outputs": [],
   "source": []
  }
 ],
 "metadata": {
  "kernelspec": {
   "display_name": "Python 3",
   "language": "python",
   "name": "python3"
  },
  "language_info": {
   "codemirror_mode": {
    "name": "ipython",
    "version": 3
   },
   "file_extension": ".py",
   "mimetype": "text/x-python",
   "name": "python",
   "nbconvert_exporter": "python",
   "pygments_lexer": "ipython3",
   "version": "3.7.3"
  }
 },
 "nbformat": 4,
 "nbformat_minor": 2
}
