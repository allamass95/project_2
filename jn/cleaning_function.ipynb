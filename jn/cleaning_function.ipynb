{
 "cells": [
  {
   "cell_type": "code",
<<<<<<< HEAD
   "execution_count": 38,
=======
   "execution_count": 2,
>>>>>>> 163d110a67a139b45cbd83f77354bbbb296d7c78
   "metadata": {},
   "outputs": [],
   "source": [
    "import pandas as pd\n",
    "from sqlalchemy import create_engine"
   ]
  },
  {
   "cell_type": "code",
   "execution_count": 39,
   "metadata": {},
   "outputs": [],
   "source": [
    "connection_string = \"postgres:Riceuniv19!@localhost:5432/project2\"\n",
    "engine = create_engine(f'postgresql://{connection_string}')"
   ]
  },
  {
   "cell_type": "code",
   "execution_count": null,
   "metadata": {},
   "outputs": [],
   "source": []
  },
  {
   "cell_type": "code",
<<<<<<< HEAD
   "execution_count": 29,
   "metadata": {},
   "outputs": [],
   "source": [
    "data_2011 = pd.read_csv('/Users/eman.llamas/Desktop/project_2/data/2011_data.csv',header=-1)\n",
    "\n",
    "data_2012 = pd.read_csv('/Users/eman.llamas/Desktop/project_2/data/2012_data.csv',header=-1)\n",
    "\n",
    "data_2013 = pd.read_csv('/Users/eman.llamas/Desktop/project_2/data/2013_data.csv',header=-1)\n",
    "\n",
    "data_2014 = pd.read_csv('/Users/eman.llamas/Desktop/project_2/data/2014_data.csv',header=-1)\n",
    "\n",
    "data_2015 = pd.read_csv('/Users/eman.llamas/Desktop/project_2/data/2015_data.csv',header=-1)\n",
    "\n",
    "data_2016 = pd.read_csv('/Users/eman.llamas/Desktop/project_2/data/2016_data.csv',header=-1)\n",
    "\n",
    "data_2017 = pd.read_csv('/Users/eman.llamas/Desktop/project_2/data/2017_data.csv',header=-1)"
=======
   "execution_count": 8,
   "metadata": {},
   "outputs": [],
   "source": [
    "file=pd.read_csv('/Users/alejandrollamas/Desktop/HW-Bootcamp/HW Assignments/project_2/data/2011_data.csv',header=-1)\n",
    "data=file\n",
    "\n",
    "file_2013=pd.read_csv('/Users/alejandrollamas/Desktop/HW-Bootcamp/HW Assignments/project_2/data/2013_data.csv',header=-1)\n",
    "data_2013=file_2013\n",
    "\n",
    "file_2014=pd.read_csv('/Users/alejandrollamas/Desktop/HW-Bootcamp/HW Assignments/project_2/data/2014_data.csv',header=-1)\n",
    "data_2014=file_2014\n",
    "\n",
    "file_2015=pd.read_csv('/Users/alejandrollamas/Desktop/HW-Bootcamp/HW Assignments/project_2/data/2015_data.csv',header=-1)\n",
    "data_2015=file_2015\n",
    "\n",
    "file_2016=pd.read_csv('/Users/alejandrollamas/Desktop/HW-Bootcamp/HW Assignments/project_2/data/2016_data.csv',header=-1)\n",
    "data_2016=file_2016\n",
    "\n",
    "file_2017=pd.read_csv('/Users/alejandrollamas/Desktop/HW-Bootcamp/HW Assignments/project_2/data/2017_data.csv',header=-1)\n",
    "data_2017=file_2017\n",
    "\n",
    "file_2012=pd.read_csv('/Users/alejandrollamas/Desktop/HW-Bootcamp/HW Assignments/project_2/data/2012_data.csv',header=-1)\n",
    "data_2012=file_2012\n",
    "\n",
    "file_2010=pd.read_csv('/Users/alejandrollamas/Desktop/HW-Bootcamp/HW Assignments/project_2/data/2010_data.csv',header=-1)\n",
    "data_2010=file_2010\n",
    "\n",
    "file_2009=pd.read_csv('/Users/alejandrollamas/Desktop/HW-Bootcamp/HW Assignments/project_2/data/2009_data.csv',header=-1)\n",
    "data_2009=file_2009\n",
    "\n"
>>>>>>> 163d110a67a139b45cbd83f77354bbbb296d7c78
   ]
  },
  {
   "cell_type": "code",
<<<<<<< HEAD
   "execution_count": 30,
=======
   "execution_count": null,
   "metadata": {},
   "outputs": [],
   "source": []
  },
  {
   "cell_type": "code",
   "execution_count": 10,
   "metadata": {},
   "outputs": [],
   "source": [
    "data_2009=data_2009.rename(columns={0:'state',1:'total_seats',2:'total_senate',\n",
    "                              3:'senate_dem',4:'senate_rep',\n",
    "                              5:'senate_other',6:'total_house',\n",
    "                              7:'house_dem',8:'house_rep',9:'house_other',\n",
    "                              10:'legis_control',11:'gov_party',12:'state_control'})\n",
    "    "
   ]
  },
  {
   "cell_type": "code",
   "execution_count": null,
   "metadata": {},
   "outputs": [],
   "source": []
  },
  {
   "cell_type": "code",
   "execution_count": 62,
>>>>>>> 163d110a67a139b45cbd83f77354bbbb296d7c78
   "metadata": {},
   "outputs": [],
   "source": [
    "def clean_data(data,table_name):\n",
    "    data=data.rename(columns={0:'state',1:'total_seats',2:'total_senate',\n",
    "                              3:'senate_dem',4:'senate_rep',\n",
    "                              5:'senate_other',6:'total_house',\n",
    "                              7:'house_dem',8:'house_rep',9:'house_other',\n",
    "                              10:'legis_control',11:'gov_party',12:'state_control'})\n",
    "    data[data.columns[1:10]]=data[data.columns[1:10]].convert_objects(convert_numeric=True).fillna(0).astype(int)\n",
    "\n",
    "    data.to_sql(name=table_name,con=engine, if_exists='append', index=False)"
   ]
  },
  {
   "cell_type": "code",
   "execution_count": 31,
   "metadata": {},
   "outputs": [
    {
     "name": "stderr",
     "output_type": "stream",
     "text": [
      "/Users/eman.llamas/anaconda3/lib/python3.7/site-packages/ipykernel_launcher.py:7: FutureWarning: convert_objects is deprecated.  To re-infer data dtypes for object columns, use DataFrame.infer_objects()\n",
      "For all other conversions use the data-type specific converters pd.to_datetime, pd.to_timedelta and pd.to_numeric.\n",
      "  import sys\n"
     ]
    }
   ],
   "source": [
    "clean_data(data_2011,'legis_2011')"
   ]
  },
  {
   "cell_type": "code",
   "execution_count": 32,
   "metadata": {},
   "outputs": [
    {
     "name": "stderr",
     "output_type": "stream",
     "text": [
      "/Users/eman.llamas/anaconda3/lib/python3.7/site-packages/ipykernel_launcher.py:7: FutureWarning: convert_objects is deprecated.  To re-infer data dtypes for object columns, use DataFrame.infer_objects()\n",
      "For all other conversions use the data-type specific converters pd.to_datetime, pd.to_timedelta and pd.to_numeric.\n",
      "  import sys\n"
     ]
    }
   ],
   "source": [
    "clean_data(data_2012,'legis_2012')"
   ]
  },
  {
   "cell_type": "code",
   "execution_count": 33,
   "metadata": {},
   "outputs": [
    {
     "name": "stderr",
     "output_type": "stream",
     "text": [
      "/Users/eman.llamas/anaconda3/lib/python3.7/site-packages/ipykernel_launcher.py:7: FutureWarning: convert_objects is deprecated.  To re-infer data dtypes for object columns, use DataFrame.infer_objects()\n",
      "For all other conversions use the data-type specific converters pd.to_datetime, pd.to_timedelta and pd.to_numeric.\n",
      "  import sys\n"
     ]
    }
   ],
   "source": [
    "clean_data(data_2013,'legis_2013')"
   ]
  },
  {
   "cell_type": "code",
   "execution_count": 34,
   "metadata": {},
   "outputs": [
    {
     "name": "stderr",
     "output_type": "stream",
     "text": [
      "/Users/eman.llamas/anaconda3/lib/python3.7/site-packages/ipykernel_launcher.py:7: FutureWarning: convert_objects is deprecated.  To re-infer data dtypes for object columns, use DataFrame.infer_objects()\n",
      "For all other conversions use the data-type specific converters pd.to_datetime, pd.to_timedelta and pd.to_numeric.\n",
      "  import sys\n"
     ]
    }
   ],
   "source": [
    "clean_data(data_2014,'legis_2014')"
   ]
  },
  {
   "cell_type": "code",
   "execution_count": 35,
   "metadata": {},
   "outputs": [
    {
     "name": "stderr",
     "output_type": "stream",
     "text": [
      "/Users/eman.llamas/anaconda3/lib/python3.7/site-packages/ipykernel_launcher.py:7: FutureWarning: convert_objects is deprecated.  To re-infer data dtypes for object columns, use DataFrame.infer_objects()\n",
      "For all other conversions use the data-type specific converters pd.to_datetime, pd.to_timedelta and pd.to_numeric.\n",
      "  import sys\n"
     ]
    }
   ],
   "source": [
    "clean_data(data_2015,'legis_2015')"
   ]
  },
  {
   "cell_type": "code",
   "execution_count": 36,
   "metadata": {},
   "outputs": [
    {
     "name": "stderr",
     "output_type": "stream",
     "text": [
      "/Users/eman.llamas/anaconda3/lib/python3.7/site-packages/ipykernel_launcher.py:7: FutureWarning: convert_objects is deprecated.  To re-infer data dtypes for object columns, use DataFrame.infer_objects()\n",
      "For all other conversions use the data-type specific converters pd.to_datetime, pd.to_timedelta and pd.to_numeric.\n",
      "  import sys\n"
     ]
    }
   ],
   "source": [
    "clean_data(data_2016,'legis_2016')"
   ]
  },
  {
   "cell_type": "code",
   "execution_count": 37,
   "metadata": {},
   "outputs": [
    {
     "name": "stderr",
     "output_type": "stream",
     "text": [
      "/Users/eman.llamas/anaconda3/lib/python3.7/site-packages/ipykernel_launcher.py:7: FutureWarning: convert_objects is deprecated.  To re-infer data dtypes for object columns, use DataFrame.infer_objects()\n",
      "For all other conversions use the data-type specific converters pd.to_datetime, pd.to_timedelta and pd.to_numeric.\n",
      "  import sys\n"
     ]
    }
   ],
   "source": [
    "clean_data(data_2017,'legis_2017')"
   ]
  },
  {
   "cell_type": "code",
   "execution_count": null,
   "metadata": {},
   "outputs": [],
   "source": []
  },
  {
   "cell_type": "code",
   "execution_count": 1,
   "metadata": {},
   "outputs": [
    {
     "ename": "NameError",
     "evalue": "name 'data_2014' is not defined",
     "output_type": "error",
     "traceback": [
      "\u001b[0;31m---------------------------------------------------------------------------\u001b[0m",
      "\u001b[0;31mNameError\u001b[0m                                 Traceback (most recent call last)",
      "\u001b[0;32m<ipython-input-1-0d8ea06d8f0b>\u001b[0m in \u001b[0;36m<module>\u001b[0;34m\u001b[0m\n\u001b[0;32m----> 1\u001b[0;31m \u001b[0mdata_2014\u001b[0m\u001b[0;34m\u001b[0m\u001b[0;34m\u001b[0m\u001b[0m\n\u001b[0m",
      "\u001b[0;31mNameError\u001b[0m: name 'data_2014' is not defined"
     ]
    }
   ],
   "source": []
  },
  {
   "cell_type": "code",
   "execution_count": null,
   "metadata": {},
   "outputs": [],
   "source": []
  }
 ],
 "metadata": {
  "kernelspec": {
   "display_name": "Python 3",
   "language": "python",
   "name": "python3"
  },
  "language_info": {
   "codemirror_mode": {
    "name": "ipython",
    "version": 3
   },
   "file_extension": ".py",
   "mimetype": "text/x-python",
   "name": "python",
   "nbconvert_exporter": "python",
   "pygments_lexer": "ipython3",
   "version": "3.7.3"
  }
 },
 "nbformat": 4,
 "nbformat_minor": 2
}
