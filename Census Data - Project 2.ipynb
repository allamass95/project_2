{
 "cells": [
  {
   "cell_type": "code",
   "execution_count": 2,
   "metadata": {},
   "outputs": [],
   "source": [
    "import numpy as np\n",
    "import pandas as pd\n",
    "import requests\n",
    "from census import Census\n",
    "from sqlalchemy import create_engine\n",
    "\n",
    "api_key = \"85ac64b6b5a9c0901b00329d1ef41f0c53ccfc98\""
   ]
  },
  {
   "cell_type": "code",
   "execution_count": 3,
   "metadata": {},
   "outputs": [],
   "source": [
    "# Run Census Search to retrieve data on all states\n",
    "# Note the addition of \"B23025_005E\" for unemployment count\n",
    "def project_data(api, year):\n",
    "    \n",
    "    c = Census(api_key, year=year)\n",
    "    \n",
    "    census_data = c.acs5.get((\"NAME\", \"B19013_001E\", \"B01003_001E\", \"B17012_002E\",\n",
    "                          \"B19301_001E\",\n",
    "                          \"B17001_002E\",\n",
    "                          \"B25064_001E\",\n",
    "                          \"B23025_005E\",\n",
    "                          \"B02001_003E\",\n",
    "                          \"B03001_003E\",\n",
    "                          \"B02001_002E\",\n",
    "                          \"B17001A_002E\",\n",
    "                          \"B17001I_002E\",\n",
    "                          \"B17001B_002E\"), {'for': 'state:*'})\n",
    "\n",
    "    # Convert to DataFrame\n",
    "    census_pd = pd.DataFrame(census_data)\n",
    "\n",
    "    # Column Reordering\n",
    "    census_pd = census_pd.rename(columns={\"B01003_001E\": \"Population\",\n",
    "                                      \"B17001_002E\": \"Poverty Count\",\n",
    "                                      \"B19013_001E\": \"Median Household Income\",\n",
    "                                      \"B19301_001E\": \"Per Capita Income\",\n",
    "                                      \"B17001_002E\": \"Poverty Count\",\n",
    "                                      \"B23025_005E\": \"Unemployment Count\",\n",
    "                                      \"B25064_001E\": \"Median Cost of Rent\",\n",
    "                                      \n",
    "                                      \"B02001_003E\":\"Black Population\",\n",
    "                                      \"B03001_003E\":\"Hispanic Population\",\n",
    "                                      \"B02001_002E\":\"White Population\",\n",
    "                                      \"B17001A_002E\":\"White Poverty Count\",\n",
    "                                      \"B17001I_002E\":\"Hispanic Poverty Count\",\n",
    "                                      \"B17001B_002E\":\"Black Poverty Count\",\n",
    "                                      \"NAME\": \"Name\", \"state\": \"State\"})\n",
    "\n",
    "    # Add in Poverty Rate (Poverty Count / Population)\n",
    "    census_pd[\"Poverty Rate\"] = 100 * \\\n",
    "        census_pd[\"Poverty Count\"].astype(\n",
    "            int) / census_pd[\"Population\"].astype(int)\n",
    "\n",
    "    # Add in Employment Rate (Employment Count / Population)\n",
    "    census_pd[\"Unemployment Rate\"] = 100 * \\\n",
    "        census_pd[\"Unemployment Count\"].astype(\n",
    "            int) / census_pd[\"Population\"].astype(int)\n",
    "\n",
    "    census_pd[\"Black Poverty Rate\"] = 100 * census_pd[\"Black Poverty Count\"].astype(\n",
    "            int) / census_pd[\"Black Population\"].astype(int)\n",
    "\n",
    "    census_pd[\"White Poverty Rate\"] = 100 * census_pd[\"White Poverty Count\"].astype(\n",
    "            int) / census_pd[\"White Population\"].astype(int)\n",
    "\n",
    "    census_pd[\"Hispanic Poverty Rate\"] = 100 * census_pd[\"Hispanic Poverty Count\"].astype(\n",
    "            int) / census_pd[\"Hispanic Population\"].astype(int)\n",
    "\n",
    "\n",
    "\n",
    "\n",
    "\n",
    "    # Final DataFrame\n",
    "    census_pd = census_pd[[\"State\", \"Name\", \"Population\", \"Median Household Income\",\n",
    "                       \"Per Capita Income\", \"Poverty Rate\", \"Unemployment Rate\",\n",
    "                       \"Median Cost of Rent\", \"Black Poverty Rate\", \"Hispanic Poverty Rate\", \"White Poverty Rate\"]]\n",
    "\n",
    "    return census_pd"
   ]
  },
  {
   "cell_type": "code",
   "execution_count": 4,
   "metadata": {},
   "outputs": [],
   "source": [
    "data_2011 = project_data(api_key,2011)\n",
    "data_2012 = project_data(api_key,2012)\n",
    "data_2013 = project_data(api_key,2013)\n",
    "data_2014 = project_data(api_key,2014)\n",
    "data_2015 = project_data(api_key,2015)\n",
    "data_2016 = project_data(api_key,2016)\n",
    "data_2017 = project_data(api_key,2017)"
   ]
  },
  {
   "cell_type": "code",
   "execution_count": 106,
   "metadata": {},
   "outputs": [],
   "source": [
    "# creating sql connection\n",
    "connection_string = \"postgres:Riceuniv19!@localhost:5432/project2\"\n",
    "engine = create_engine(f'postgresql://{connection_string}')"
   ]
  },
  {
   "cell_type": "code",
   "execution_count": 114,
   "metadata": {},
   "outputs": [],
   "source": [
    "def to_sql(df_name, table_name):\n",
    "    \n",
    "    df_name.to_sql(name = table_name , con=engine, if_exists='append', index=False)"
   ]
  },
  {
   "cell_type": "code",
   "execution_count": 115,
   "metadata": {},
   "outputs": [],
   "source": [
    "to_sql(data_2011, 'year_2011')\n",
    "to_sql(data_2012, 'year_2012')\n",
    "to_sql(data_2013, 'year_2013')\n",
    "to_sql(data_2014, 'year_2014')\n",
    "to_sql(data_2015, 'year_2015')\n",
    "to_sql(data_2016, 'year_2016')\n",
    "to_sql(data_2017, 'year_2017')"
   ]
  },
  {
   "cell_type": "code",
   "execution_count": 1,
   "metadata": {},
   "outputs": [
    {
     "ename": "NameError",
     "evalue": "name 'data_2012' is not defined",
     "output_type": "error",
     "traceback": [
      "\u001b[0;31m---------------------------------------------------------------------------\u001b[0m",
      "\u001b[0;31mNameError\u001b[0m                                 Traceback (most recent call last)",
      "\u001b[0;32m<ipython-input-1-8fb776ab2d76>\u001b[0m in \u001b[0;36m<module>\u001b[0;34m\u001b[0m\n\u001b[0;32m----> 1\u001b[0;31m \u001b[0mdata_2012\u001b[0m\u001b[0;34m.\u001b[0m\u001b[0mhead\u001b[0m\u001b[0;34m(\u001b[0m\u001b[0;34m)\u001b[0m\u001b[0;34m\u001b[0m\u001b[0;34m\u001b[0m\u001b[0m\n\u001b[0m",
      "\u001b[0;31mNameError\u001b[0m: name 'data_2012' is not defined"
     ]
    }
   ],
   "source": [
    "data_2012.head()"
   ]
  },
  {
   "cell_type": "code",
   "execution_count": null,
   "metadata": {},
   "outputs": [],
   "source": []
  }
 ],
 "metadata": {
  "kernelspec": {
   "display_name": "Python 3",
   "language": "python",
   "name": "python3"
  },
  "language_info": {
   "codemirror_mode": {
    "name": "ipython",
    "version": 3
   },
   "file_extension": ".py",
   "mimetype": "text/x-python",
   "name": "python",
   "nbconvert_exporter": "python",
   "pygments_lexer": "ipython3",
   "version": "3.7.3"
  }
 },
 "nbformat": 4,
 "nbformat_minor": 2
}
